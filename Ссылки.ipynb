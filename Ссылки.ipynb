{
 "cells": [
  {
   "cell_type": "markdown",
   "metadata": {},
   "source": [
    "* [JupyterLab и Jupyter Notebook — мощные инструменты Data Science](https://proglib.io/p/jupyter/)\n",
    "* [Особенности Jupyter Notebook, о которых вы (может быть) не слышали](https://habr.com/ru/company/wunderfund/blog/316826/)\n",
    "* [Введение в pandas: анализ данных на Python](https://khashtamov.com/ru/pandas-introduction/)"
   ]
  },
  {
   "cell_type": "code",
   "execution_count": null,
   "metadata": {},
   "outputs": [],
   "source": [
    "from IPython.display import HTML\n",
    "HTML('<iframe width=80% height=\"600\" src=\"https://www.youtube.com/embed/q4d-hKCpTEc\" frameborder=\"0\" allow=\"accelerometer; autoplay; encrypted-media; gyroscope; picture-in-picture\" allowfullscreen></iframe>')"
   ]
  }
 ],
 "metadata": {
  "kernelspec": {
   "display_name": "Python 3",
   "language": "python",
   "name": "python3"
  },
  "language_info": {
   "codemirror_mode": {
    "name": "ipython",
    "version": 3
   },
   "file_extension": ".py",
   "mimetype": "text/x-python",
   "name": "python",
   "nbconvert_exporter": "python",
   "pygments_lexer": "ipython3",
   "version": "3.5.2"
  }
 },
 "nbformat": 4,
 "nbformat_minor": 2
}
